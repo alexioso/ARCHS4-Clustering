{
 "cells": [
  {
   "cell_type": "code",
   "execution_count": 4,
   "metadata": {},
   "outputs": [],
   "source": [
    "import os\n",
    "import requests\n",
    "import shutil\n",
    "import h5py\n",
    "import numpy as np\n",
    "import os\n",
    "import pandas as pd\n",
    "import scipy.cluster.hierarchy as shc\n",
    "import matplotlib.pyplot as plt\n",
    "import random\n",
    "import seaborn as sns\n",
    "%matplotlib inline\n"
   ]
  },
  {
   "cell_type": "code",
   "execution_count": 91,
   "metadata": {},
   "outputs": [],
   "source": [
    "#INPUTS:\n",
    "#  file_list: list of csv filenames containing expression data. Will concatenate these matrices together and compute distances\n",
    "def preprocess_samples(file_list):\n",
    "    sample_source = []\n",
    "    # Merge all of the files into one dataframe\n",
    "    df_expression = pd.read_csv(os.path.join(data_path,file_list[0]),index_col = 0)\n",
    "    sample_source.extend(np.repeat(file_list[0],len(df_expression.columns)))\n",
    "    for filename in file_list[1:]:\n",
    "        temp = pd.read_csv(os.path.join(data_path,filename),index_col = 0)\n",
    "        sample_source.extend(np.repeat(filename,len(temp.columns)))\n",
    "        df_expression = df_expression.merge(temp,on=\"/meta/genes\")\n",
    "        \n",
    "    df_expression.columns = pd.Series(df_expression.columns).str.replace(\"b\",\"\").replace(\"'\",\"\")\n",
    "    df_expression.index = pd.Series(df_expression.index).str.replace(\"b\",\"\").replace(\"'\",\"\")\n",
    "    return(df_expression,sample_source)    "
   ]
  },
  {
   "cell_type": "code",
   "execution_count": 7,
   "metadata": {},
   "outputs": [],
   "source": [
    "data_path = \"samples\"\n",
    "file_list = [\"Oocyte_expression.csv\", \"Ovary_expression.csv\"]\n",
    "df,sample_source = preprocess_samples(file_list)"
   ]
  },
  {
   "cell_type": "code",
   "execution_count": 8,
   "metadata": {},
   "outputs": [],
   "source": [
    "filepath = \"C:/Users/abraks/Documents/CS 548/ARCH5/human_matrix.h5\""
   ]
  },
  {
   "cell_type": "code",
   "execution_count": 10,
   "metadata": {},
   "outputs": [
    {
     "name": "stdout",
     "output_type": "stream",
     "text": [
      "Keys: <KeysViewHDF5 ['data', 'info', 'meta']>\n"
     ]
    }
   ],
   "source": [
    "f = h5py.File(filepath, 'r')"
   ]
  },
  {
   "cell_type": "code",
   "execution_count": 18,
   "metadata": {},
   "outputs": [
    {
     "name": "stdout",
     "output_type": "stream",
     "text": [
      "<KeysViewHDF5 ['Sample_channel_count', 'Sample_characteristics_ch1', 'Sample_contact_address', 'Sample_contact_city', 'Sample_contact_country', 'Sample_contact_department', 'Sample_contact_email', 'Sample_contact_institute', 'Sample_contact_laboratory', 'Sample_contact_name', 'Sample_contact_phone', 'Sample_contact_zip-postal_code', 'Sample_data_processing', 'Sample_data_row_count', 'Sample_description', 'Sample_extract_protocol_ch1', 'Sample_geo_accession', 'Sample_instrument_model', 'Sample_last_update_date', 'Sample_library_selection', 'Sample_library_source', 'Sample_library_strategy', 'Sample_molecule_ch1', 'Sample_organism_ch1', 'Sample_platform_id', 'Sample_relation', 'Sample_series_id', 'Sample_source_name_ch1', 'Sample_status', 'Sample_submission_date', 'Sample_supplementary_file_1', 'Sample_supplementary_file_2', 'Sample_taxid_ch1', 'Sample_title', 'Sample_type', 'gene_accession', 'gene_chromosome', 'gene_entrezid', 'gene_hgnc', 'gene_name', 'gene_refseqid', 'gene_synonym', 'genes', 'reads_aligned', 'reads_total']>\n"
     ]
    }
   ],
   "source": [
    "print(f[\"meta\"].keys())"
   ]
  },
  {
   "cell_type": "code",
   "execution_count": 92,
   "metadata": {},
   "outputs": [],
   "source": [
    "df_meta = pd.DataFrame({\"SampleGeoAccession\":df.columns})"
   ]
  },
  {
   "cell_type": "code",
   "execution_count": 87,
   "metadata": {},
   "outputs": [],
   "source": [
    "full_data = pd.DataFrame({\"Description\":f[(\"meta/Sample_description\")], \n",
    "                          \"Characteristics\":f[(\"meta/Sample_characteristics_ch1\")],\n",
    "                          \"SampleGeoAccession\":f[(\"meta/Sample_geo_accession\")],\n",
    "                          \"Series ID\":f[(\"meta/Sample_series_id\")],\n",
    "                          \"Molecule\":f[\"meta/Sample_molecule_ch1\"],\n",
    "                          \"Source Name\":f[\"meta/Sample_title\"]})\n",
    "full_data[\"SampleGeoAccession\"] = full_data[\"SampleGeoAccession\"].apply(lambda x : x.decode(\"utf-8\"))"
   ]
  },
  {
   "cell_type": "code",
   "execution_count": 88,
   "metadata": {},
   "outputs": [],
   "source": [
    "df_meta = df_meta.merge(full_data,on=\"SampleGeoAccession\",how=\"outer\")"
   ]
  },
  {
   "cell_type": "code",
   "execution_count": 90,
   "metadata": {},
   "outputs": [
    {
     "data": {
      "text/plain": [
       "b'age category: advanced maternal ageXx-xXmaternal age: 40Xx-xXtissue: oocyteXx-xXdevelopmental stage'"
      ]
     },
     "execution_count": 90,
     "metadata": {},
     "output_type": "execute_result"
    }
   ],
   "source": [
    "df_meta.loc[19,\"Characteristics\"]"
   ]
  },
  {
   "cell_type": "code",
   "execution_count": 95,
   "metadata": {},
   "outputs": [],
   "source": [
    "f.close()"
   ]
  },
  {
   "cell_type": "code",
   "execution_count": null,
   "metadata": {},
   "outputs": [],
   "source": []
  }
 ],
 "metadata": {
  "kernelspec": {
   "display_name": "Python 3",
   "language": "python",
   "name": "python3"
  },
  "language_info": {
   "codemirror_mode": {
    "name": "ipython",
    "version": 3
   },
   "file_extension": ".py",
   "mimetype": "text/x-python",
   "name": "python",
   "nbconvert_exporter": "python",
   "pygments_lexer": "ipython3",
   "version": "3.7.3"
  }
 },
 "nbformat": 4,
 "nbformat_minor": 2
}
