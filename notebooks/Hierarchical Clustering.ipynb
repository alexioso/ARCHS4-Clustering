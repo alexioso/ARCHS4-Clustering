{
 "cells": [
  {
   "cell_type": "code",
   "execution_count": 4,
   "metadata": {},
   "outputs": [],
   "source": [
    "import numpy as np\n",
    "import os\n",
    "import pandas as pd\n",
    "import scipy.cluster.hierarchy as shc\n",
    "import matplotlib.pyplot as plt\n",
    "import random\n",
    "import seaborn as sns\n",
    "%matplotlib inline\n",
    "from scipy.cluster.hierarchy import fcluster\n",
    "import h5py\n",
    "from io import StringIO\n",
    "from scipy.cluster.hierarchy import cophenet\n",
    "from scipy.spatial.distance import pdist\n",
    "import itertools\n",
    "import xlsxwriter as Excel"
   ]
  },
  {
   "cell_type": "markdown",
   "metadata": {},
   "source": [
    "my project folder stores the downloaded data samples in a folder called **samples**"
   ]
  },
  {
   "cell_type": "code",
   "execution_count": 5,
   "metadata": {},
   "outputs": [],
   "source": [
    "data_path = \"samples\""
   ]
  },
  {
   "cell_type": "code",
   "execution_count": 6,
   "metadata": {},
   "outputs": [],
   "source": [
    "#converts to df to binary dataframe, 0 representing that the previous value was 0, and 1 indicating a nonzero value\n",
    "def df_to_binary(df_expression):    \n",
    "    temp = df_expression\n",
    "    num_rows = len(temp)\n",
    "    for c in range(len(df_expression.columns)):\n",
    "        nonzero_inds = df_expression.iloc[:,c].to_numpy().nonzero()[0]\n",
    "        temp_col = np.zeros(num_rows)\n",
    "        temp_col[nonzero_inds] = 1\n",
    "        temp.iloc[:,c] = temp_col\n",
    "    return(temp)\n",
    "\n",
    "\n",
    "\n",
    "#INPUTS:\n",
    "#  file_list: list of csv filenames containing expression data. Will concatenate these matrices together and compute distances\n",
    "def preprocess_samples(file_list):\n",
    "    sample_source = []\n",
    "    # Merge all of the files into one dataframe\n",
    "    df_expression = pd.read_csv(os.path.join(data_path,file_list[0]),index_col = 0,sep=\"\\t\")\n",
    "    sample_source.extend(np.repeat(file_list[0],len(df_expression.columns)))\n",
    "    for filename in file_list[1:]:\n",
    "        temp = pd.read_csv(os.path.join(data_path,filename),index_col = 0, sep = \"\\t\")\n",
    "        sample_source.extend(np.repeat(filename,len(temp.columns)))\n",
    "        df_expression = df_expression.merge(temp,right_index=True,left_index=True)\n",
    "    \n",
    "    df_expression.columns = pd.Series(df_expression.columns)\n",
    "    df_expression.index = pd.Series(df_expression.index)\n",
    "    \n",
    "    return(df_expression,sample_source)    "
   ]
  },
  {
   "cell_type": "code",
   "execution_count": 7,
   "metadata": {},
   "outputs": [],
   "source": [
    "file_list = [\"ALPHA_expression.csv\",\"beta_expression.csv\",\"PANC1_expression.csv\"]\n",
    "df_expression_raw,sample_source = preprocess_samples(file_list)"
   ]
  },
  {
   "cell_type": "code",
   "execution_count": 8,
   "metadata": {},
   "outputs": [],
   "source": [
    "df_expression_norm = (df_expression_raw - df_expression_raw.mean())/(df_expression_raw.std())"
   ]
  },
  {
   "cell_type": "markdown",
   "metadata": {},
   "source": [
    "if you need to filter the data (define filter_to at bottom of last iteration once you have metadata):"
   ]
  },
  {
   "cell_type": "code",
   "execution_count": 165,
   "metadata": {},
   "outputs": [],
   "source": [
    "#df_expression_raw = df_expression_raw.loc[[\"BRCA1\",\"BRCA2\",\"CHEK2\", \"RAD51\", \"BRIP1\", \"PALB2\"],:]\n",
    "#df_expression_norm = df_expression_norm.loc[[\"BRCA1\",\"BRCA2\",\"CHEK2\", \"RAD51\", \"BRIP1\", \"PALB2\"],:]"
   ]
  },
  {
   "cell_type": "markdown",
   "metadata": {},
   "source": [
    "transform the data (normalization and indication(x>0))"
   ]
  },
  {
   "cell_type": "markdown",
   "metadata": {},
   "source": [
    "this cell takes a minute to run"
   ]
  },
  {
   "cell_type": "code",
   "execution_count": 123,
   "metadata": {},
   "outputs": [],
   "source": [
    "df_expression_binary = df_to_binary(df_expression_raw)"
   ]
  },
  {
   "cell_type": "code",
   "execution_count": 8,
   "metadata": {},
   "outputs": [],
   "source": [
    "#print(\"Sparsity Ratio = \" + str(1-df_expression_binary.sum().sum()/(238522 * 35238)) )"
   ]
  },
  {
   "cell_type": "markdown",
   "metadata": {},
   "source": [
    "# Cluster on Samples by gene arrays"
   ]
  },
  {
   "cell_type": "markdown",
   "metadata": {},
   "source": [
    "To cluster samples on gene expressions, we have to transpose the data so that each sample is a row"
   ]
  },
  {
   "cell_type": "code",
   "execution_count": 166,
   "metadata": {},
   "outputs": [],
   "source": [
    "method=\"average\"\n",
    "metric=\"euclidean\""
   ]
  },
  {
   "cell_type": "code",
   "execution_count": 167,
   "metadata": {},
   "outputs": [],
   "source": [
    "#df_expression_trans = np.transpose(df_expression_raw)\n",
    "df_expression_trans = np.transpose(df_expression_norm)\n",
    "#df_expression_trans = np.transpose(df_expression_binary)"
   ]
  },
  {
   "cell_type": "code",
   "execution_count": 168,
   "metadata": {},
   "outputs": [],
   "source": [
    "#dataTitle=\"Raw \"\n",
    "dataTitle=\" Normalized \"\n",
    "#dataTitle=\" Binary \""
   ]
  },
  {
   "cell_type": "code",
   "execution_count": 127,
   "metadata": {},
   "outputs": [],
   "source": [
    "cluster_title = dataTitle +\" Data (Filtered) Liver vs. HEPG2 cell \"+method+\"+\"+metric"
   ]
  },
  {
   "cell_type": "code",
   "execution_count": 169,
   "metadata": {},
   "outputs": [],
   "source": [
    "def hierarchical_clustering(df,title,method=\"average\",metric=\"euclidean\"):\n",
    "    clustering = shc.linkage(df, method=method, metric=metric)\n",
    "    plt.figure(figsize=(25, 20))  \n",
    "    plt.title(title)  \n",
    "\n",
    "    dend = shc.dendrogram(clustering) \n",
    "    print(\"Cophenet = \" + str(cophenet(clustering, pdist(df))[0]))\n",
    "    return(clustering)"
   ]
  },
  {
   "cell_type": "markdown",
   "metadata": {},
   "source": [
    "Here I try three different combinations of input data and metric. \n",
    "### TODO: Use the below code to explore and analyze other combinations by comparing their cophenet and purity. Explore other methods besides \"average\". Best thing to do is adjust one hyperparameter at a time, leaving all else fixed. Remember that the input data itself is a hyperparameter because we have three options (1. raw 2. normalized 3. binary). Don't forget we also have much more data than ovarian data, so we may need to split this work later on"
   ]
  },
  {
   "cell_type": "markdown",
   "metadata": {},
   "source": [
    "The closer the cophenet score is to 1, the better the clustering"
   ]
  },
  {
   "cell_type": "code",
   "execution_count": 170,
   "metadata": {},
   "outputs": [
    {
     "name": "stdout",
     "output_type": "stream",
     "text": [
      "Cophenet = 0.9213235726198434\n"
     ]
    },
    {
     "data": {
      "image/png": "[encoded data removed]",
      "text/plain": [
       "<Figure size 1800x1440 with 1 Axes>"
      ]
     },
     "metadata": {
      "needs_background": "light"
     },
     "output_type": "display_data"
    }
   ],
   "source": [
    "clustering = hierarchical_clustering(df_expression_trans, method=method, metric=metric, title = cluster_title + \" Dendrogram\")"
   ]
  },
  {
   "cell_type": "markdown",
   "metadata": {},
   "source": [
    "Use  your eyeballs to come up with an appropriate number of clusters to analyze. I am going to choose the first dendogram because it is obvious that k=3"
   ]
  },
  {
   "cell_type": "code",
   "execution_count": 171,
   "metadata": {},
   "outputs": [
    {
     "data": {
      "text/plain": [
       "array([2, 1, 1, 1, 1, 1, 1, 1, 1, 1, 1, 1, 1, 1, 1, 1, 1, 1, 1, 1, 1, 1,\n",
       "       1, 1, 1, 1, 1, 1, 1, 1, 1, 1, 1, 1, 1, 1, 1, 1, 1, 1, 1, 1, 1, 1,\n",
       "       1, 1, 1, 1, 1, 1, 1, 1, 1, 1, 1, 1, 1, 1, 1, 1, 1, 1, 1, 1, 1, 1,\n",
       "       1, 1, 1, 1, 1, 1, 1, 1, 1, 1, 1, 1, 1, 1, 1, 1, 1, 1, 1, 1, 1, 1,\n",
       "       1, 1, 1, 1, 1, 1, 1, 1, 1, 1, 1, 1, 1, 1, 1, 1, 1, 1, 1, 1, 1, 1,\n",
       "       1, 1, 1, 1, 1, 1, 1, 1, 1, 1, 1, 1, 1, 1, 1, 1, 1, 1, 1, 1, 1, 1,\n",
       "       1, 1, 1, 1, 1, 1, 1, 1, 1, 1, 1, 1, 1, 1, 1, 1, 1, 1, 1, 1, 1, 1,\n",
       "       1, 1, 1, 1, 1, 1, 1, 1, 1, 1, 1, 1, 1, 1, 1, 1, 1, 1, 1, 1, 1, 1,\n",
       "       1, 1, 1, 1, 1, 1, 1, 1, 1, 1, 1, 1, 1, 1, 1, 1, 1, 1, 1, 1, 1, 1,\n",
       "       1, 1, 1, 1, 1, 1, 1, 1, 1, 1, 1, 1, 1, 1, 1, 1, 1, 1, 1, 1, 1, 1,\n",
       "       1, 1, 1, 1, 1, 1, 1, 1, 1, 1, 1, 1, 1, 1, 1, 1, 1, 1, 1, 1, 1, 1,\n",
       "       1, 1, 1, 1, 1, 1, 1, 1, 1, 1, 1, 1, 1, 1, 1, 1, 1, 1, 1, 1, 1, 1,\n",
       "       1, 1, 1, 1, 1, 1, 1, 1, 1, 1, 1, 1, 1, 1, 1, 1, 1, 1, 1, 1, 1, 1,\n",
       "       1, 1, 1, 1, 1, 1, 1, 1, 1, 1, 1, 1, 1, 1, 1, 1, 1, 1, 1, 1, 1, 1,\n",
       "       1, 1, 1, 1, 1, 1, 1, 1, 1, 1, 1, 1, 1, 1, 1, 1, 1, 1, 1, 1, 1, 1,\n",
       "       1, 1, 1, 1, 1, 1, 1, 1, 1, 1, 1, 1, 1, 1, 1, 1, 1, 1, 1, 1, 1, 1,\n",
       "       1, 1, 1, 1, 1, 1, 1, 1, 1, 1, 1, 1, 1, 1, 1, 1, 1, 1, 1, 1, 1, 1,\n",
       "       1, 1, 1, 1, 1, 1, 1, 1, 1, 1, 1, 1, 1, 1, 1, 1, 1, 1, 1, 1, 1, 1,\n",
       "       1, 1, 1, 1, 1, 1, 1, 1, 1, 1, 1, 1, 1, 1, 1, 1, 1, 1, 1, 1, 1, 1,\n",
       "       1, 1, 1, 1, 1, 1, 1, 1, 1, 1, 1, 3, 1, 1, 1, 1, 1, 1, 1, 1, 1, 1,\n",
       "       1, 1, 1, 1, 1, 1, 1, 1, 1, 1, 1, 1, 1, 1, 1, 1, 1, 1, 1, 1, 1, 1,\n",
       "       1, 1, 1, 1, 1, 1, 1, 1, 1, 1, 1, 1, 1, 1, 1, 1, 1, 1, 1, 1, 1, 1,\n",
       "       1, 1, 1, 1, 1, 1, 1, 1, 1, 1, 1, 1, 1, 1, 1, 1, 1, 1, 1, 1, 1, 1,\n",
       "       1, 1, 1, 1, 1, 1, 1, 1, 1, 1, 1, 1, 1, 1, 1, 1, 1, 1, 1, 1, 1, 1,\n",
       "       1, 1, 1, 1, 1, 1, 1, 1, 1, 1, 1, 1, 1, 1, 1, 1, 1, 1, 1, 1, 1, 1,\n",
       "       1, 1, 1, 1, 1, 1, 1, 1, 1, 1, 1, 1, 1, 1, 1, 1, 1, 1, 1, 1, 1, 1,\n",
       "       1, 1, 1, 1, 1, 1, 1, 1, 1, 1, 1, 1, 1, 1, 1, 1, 1, 1, 1, 1, 1, 1,\n",
       "       1, 1, 1, 1, 1, 1, 1, 1, 1, 1, 1, 1, 1, 1, 1, 1, 1, 1, 1, 1, 1, 1,\n",
       "       1, 1, 1, 1, 1, 1, 1, 1, 1, 1, 1, 1, 1, 1, 1, 1, 1, 1, 1, 1, 1, 1,\n",
       "       1, 1, 1, 1, 1, 1, 1, 1, 1, 1, 1, 1, 1, 1, 1, 1, 1, 1, 1, 1, 1, 1],\n",
       "      dtype=int32)"
      ]
     },
     "execution_count": 171,
     "metadata": {},
     "output_type": "execute_result"
    }
   ],
   "source": [
    "k = 3\n",
    "cluster_assignments = fcluster(clustering, k, criterion='maxclust')\n",
    "cluster_assignments"
   ]
  },
  {
   "cell_type": "markdown",
   "metadata": {},
   "source": [
    "Cluster Assessment Helper Functions"
   ]
  },
  {
   "cell_type": "code",
   "execution_count": 172,
   "metadata": {},
   "outputs": [],
   "source": [
    "#INPUTS: \n",
    "#  h5filepath: path where the full matrix is stored with meta and expression data\n",
    "#  subsamples: a pandas DataFrame that must contain a column (foreign key) called SampleGeoAccession\n",
    "#OUTPUT\n",
    "#  merged dataframe of length(subsamples) merged with relevant meta/Sample values for cluster analysis\n",
    "def h5_sample_meta_lookup(h5filepath,subsamples):\n",
    "    f = h5py.File(h5filepath, 'r')\n",
    "    full_data = pd.DataFrame({\"Description\":f[(\"meta/Sample_description\")], \n",
    "                          \"Characteristics\":f[(\"meta/Sample_characteristics_ch1\")],\n",
    "                          \"SampleGeoAccession\":f[(\"meta/Sample_geo_accession\")],\n",
    "                          \"Series ID\":f[(\"meta/Sample_series_id\")],\n",
    "                          \"Molecule\":f[\"meta/Sample_molecule_ch1\"],\n",
    "                          \"Source Name\":f[\"meta/Sample_title\"]})\n",
    "    f.close()\n",
    "    full_data[\"SampleGeoAccession\"] = full_data[\"SampleGeoAccession\"].apply(lambda x : x.decode(\"utf-8\"))\n",
    "    cluster_meta = subsamples.merge(full_data,on=\"SampleGeoAccession\",how=\"left\")\n",
    "    cluster_meta[\"Sample_Label\"] = pd.Series(sample_source).str.replace(\".csv\",\"\").str.replace(\"_expression\",\" \")\n",
    "    cluster_meta[\"Series ID\"] = cluster_meta[\"Series ID\"].str.decode(\"utf-8\").str.replace(\"Xx\",\"\").str.replace(\"xX\",\"\")\n",
    "    cluster_meta[\"Molecule\"] = cluster_meta[\"Molecule\"].str.decode(\"utf-8\")\n",
    "    cluster_meta[\"Source Name\"] = cluster_meta[\"Source Name\"].str.decode(\"utf-8\")\n",
    "    cluster_meta[\"Description\"] = cluster_meta[\"Description\"].str.decode(\"utf-8\").str.replace(\"Xx\",\"\").str.replace(\"xX\",\"\")\n",
    "    cluster_meta[\"Characteristics\"] = cluster_meta[\"Characteristics\"].str.decode(\"utf-8\").str.replace(\"Xx\",\"\").str.replace(\"xX\",\"\")\n",
    "    return(cluster_meta)"
   ]
  },
  {
   "cell_type": "markdown",
   "metadata": {},
   "source": [
    "Merge cluster assignments data with corresponding metadata"
   ]
  },
  {
   "cell_type": "code",
   "execution_count": 173,
   "metadata": {},
   "outputs": [],
   "source": [
    "cluster_dict = {\"SampleGeoAccession\":[],\"ClusterAssignment\":[]}\n",
    "cluster_dict[\"SampleGeoAccession\"] = df_expression_trans.index\n",
    "cluster_dict[\"ClusterAssignment\"] = cluster_assignments\n",
    "cluster_info = pd.DataFrame(cluster_dict)\n",
    "cluster_metadata = h5_sample_meta_lookup(\"human_matrix.h5\",cluster_info).sort_values(\"ClusterAssignment\")"
   ]
  },
  {
   "cell_type": "markdown",
   "metadata": {},
   "source": [
    "Use this dataframe to assess the clustering based on 1. Bootstrapping. 2. Purity/Efficiency"
   ]
  },
  {
   "cell_type": "markdown",
   "metadata": {},
   "source": [
    "Here is the purity efficiency calculations"
   ]
  },
  {
   "cell_type": "code",
   "execution_count": 174,
   "metadata": {},
   "outputs": [],
   "source": [
    "cluster_metadata_metrics = {}\n",
    "for c in range(1,k+1):\n",
    "    cluster_metadata_metrics[c] = {\"Size\":len(cluster_metadata.loc[cluster_metadata.ClusterAssignment == c]), \n",
    "                                   \"Molecule Purity\":{},\"Series Purity\":{},\"Label Purity\":{}}\n",
    "    series_counts = cluster_metadata.groupby('ClusterAssignment')[\"Series ID\"].value_counts()\n",
    "    molecule_counts = cluster_metadata.groupby('ClusterAssignment')[\"Molecule\"].value_counts()\n",
    "    label_counts = cluster_metadata.groupby('ClusterAssignment')[\"Sample_Label\"].value_counts()\n",
    "    \n",
    "    series_purity_key = pd.Series(series_counts[c][series_counts[c] == series_counts[c].max()]).index[0]\n",
    "    series_purity_val = series_counts[c].max()/float(series_counts[c].sum())\n",
    "    cluster_metadata_metrics[c][\"Series Purity\"][series_purity_key] = round(series_purity_val,3)\n",
    "\n",
    "    molecule_purity_key = molecule_counts[c][molecule_counts[c] == molecule_counts[c].max()].index[0]\n",
    "    molecule_purity_val = molecule_counts[c].max()/float(molecule_counts[c].sum())\n",
    "    cluster_metadata_metrics[c][\"Molecule Purity\"][molecule_purity_key] = round(molecule_purity_val,3)\n",
    "    \n",
    "    label_purity_key = label_counts[c][label_counts[c] == label_counts[c].max()].index[0]\n",
    "    label_purity_val = label_counts[c].max()/float(label_counts[c].sum())\n",
    "    cluster_metadata_metrics[c][\"Label Purity\"][label_purity_key] = round(label_purity_val,3)\n",
    "    \n",
    "    "
   ]
  },
  {
   "cell_type": "code",
   "execution_count": 175,
   "metadata": {},
   "outputs": [
    {
     "data": {
      "text/plain": [
       "{1: {'Size': 658,\n",
       "  'Molecule Purity': {'total RNA': 0.944},\n",
       "  'Series Purity': {'GSE87849': 0.657},\n",
       "  'Label Purity': {'ES2 ': 0.851}},\n",
       " 2: {'Size': 1,\n",
       "  'Molecule Purity': {'polyA RNA': 1.0},\n",
       "  'Series Purity': {'GSE30017': 1.0},\n",
       "  'Label Purity': {'Ovary ': 1.0}},\n",
       " 3: {'Size': 1,\n",
       "  'Molecule Purity': {'total RNA': 1.0},\n",
       "  'Series Purity': {'GSE87849': 1.0},\n",
       "  'Label Purity': {'ES2 ': 1.0}}}"
      ]
     },
     "execution_count": 175,
     "metadata": {},
     "output_type": "execute_result"
    }
   ],
   "source": [
    "cluster_metadata_metrics"
   ]
  },
  {
   "cell_type": "code",
   "execution_count": 176,
   "metadata": {},
   "outputs": [],
   "source": [
    "def purity_to_excel(cluster_metadata_metrics, outfile):\n",
    "    workbook = Excel.Workbook(\"tables/\" +outfile +\".xlsx\")\n",
    "    worksheet = workbook.add_worksheet()\n",
    "    cluster_format = workbook.add_format({'bold': True, 'align':'center'})\n",
    "    center = workbook.add_format({'align': 'center'})\n",
    "\n",
    "    # Add a format. Light red fill with dark red text.\n",
    "    format1 = workbook.add_format({'bg_color': '#FFC7CE',\n",
    "                                   'font_color': '#9C0006'})\n",
    "\n",
    "    # Add a format. Green fill with dark green text.\n",
    "    format2 = workbook.add_format({'bg_color': '#C6EFCE',\n",
    "                                   'font_color': '#006100'})\n",
    "\n",
    "    worksheet.write('A1', \"Cluster ID\",cluster_format)\n",
    "    worksheet.write('B1', \"Cluster Size\",center)\n",
    "    worksheet.write('C1', \"Dominant Molecule\",center)\n",
    "    worksheet.write('D1', \"Molecule Purity\",center)\n",
    "    worksheet.write('E1', \"Dominant Series\",center)\n",
    "    worksheet.write('F1', \"Series Purity\",center)\n",
    "    worksheet.write('G1', \"Dominant Label\",center)\n",
    "    worksheet.write('H1', \"Label Purity\",center)\n",
    "\n",
    "    worksheet.set_column(1, 7, 15)\n",
    "\n",
    "    num_keys = len(list(cluster_metadata_metrics.keys()))\n",
    "\n",
    "    j = 1\n",
    "    for i in np.sort(list(cluster_metadata_metrics.keys())):\n",
    "        worksheet.write(j,0,i,center)\n",
    "        worksheet.write(j,1,cluster_metadata_metrics[i][\"Size\"],center)\n",
    "        worksheet.write(j,2,list(cluster_metadata_metrics[i][\"Molecule Purity\"].keys())[0],center)\n",
    "        worksheet.write(j,3,list(cluster_metadata_metrics[i][\"Molecule Purity\"].values())[0],center)\n",
    "        worksheet.write(j,4,list(cluster_metadata_metrics[i][\"Series Purity\"].keys())[0],center)\n",
    "        worksheet.write(j,5,list(cluster_metadata_metrics[i][\"Series Purity\"].values())[0],center)\n",
    "        worksheet.write(j,6,list(cluster_metadata_metrics[i][\"Label Purity\"].keys())[0],center)\n",
    "        worksheet.write(j,7,list(cluster_metadata_metrics[i][\"Label Purity\"].values())[0],center)\n",
    "        \n",
    "        j += 1\n",
    "\n",
    "    # Write a conditional format over a range.\n",
    "    worksheet.conditional_format('H2:H'+str(num_keys+1), {'type': 'cell',\n",
    "                                             'criteria': '>=',\n",
    "                                             'value': 0.8,\n",
    "                                             'format': format2})\n",
    "\n",
    "    # Write another conditional format over the same range.\n",
    "    worksheet.conditional_format('H2:H'+str(num_keys+1), {'type': 'cell',\n",
    "                                             'criteria': '<',\n",
    "                                             'value': 0.8,\n",
    "                                             'format': format1})\n",
    "\n",
    "\n",
    "\n",
    "    workbook.close()"
   ]
  },
  {
   "cell_type": "code",
   "execution_count": 177,
   "metadata": {},
   "outputs": [],
   "source": [
    "purity_to_excel(cluster_metadata_metrics,cluster_title+\" purity\")"
   ]
  },
  {
   "cell_type": "markdown",
   "metadata": {},
   "source": [
    "Keep in mind we expect to see high purity for total RNA because the majority of samples use total RNA"
   ]
  },
  {
   "cell_type": "markdown",
   "metadata": {},
   "source": [
    "Interesting thing to note about this clustering:\n",
    "\n",
    "- Cluster 1 has poor label purity (why are ovarian and ES2 samples getting grouped together here? Most of the polyA RNA samples (except for one) ended up in this group as well.\n",
    "- Cluster 2 contains all samples from the same series (GSE87849)\n",
    "- Cluster 3 contains two samples, both ovary, two different series. \n",
    "\n",
    "Let's investigate what the two samples in cluster 3 have in commmon\n"
   ]
  },
  {
   "cell_type": "code",
   "execution_count": null,
   "metadata": {},
   "outputs": [],
   "source": [
    "np.unique(cluster_metadata[\"Series ID\"])"
   ]
  },
  {
   "cell_type": "code",
   "execution_count": null,
   "metadata": {},
   "outputs": [],
   "source": [
    "cluster_metadata.loc[cluster_metadata[\"Series ID\"] == \"GSE97655\",:].loc[cluster_metadata[\"ClusterAssignment\"] == 2]"
   ]
  },
  {
   "cell_type": "code",
   "execution_count": 137,
   "metadata": {},
   "outputs": [],
   "source": [
    "series_counts = cluster_metadata[\"Series ID\"].value_counts()"
   ]
  },
  {
   "cell_type": "code",
   "execution_count": 40,
   "metadata": {},
   "outputs": [],
   "source": [
    "filter_to = []\n",
    "for d in range(len(cluster_metadata[\"Series ID\"])):\n",
    "    if series_counts[cluster_metadata[\"Series ID\"].iloc[d]] > 4:\n",
    "        filter_to.append(cluster_metadata[\"SampleGeoAccession\"].iloc[d])"
   ]
  },
  {
   "cell_type": "code",
   "execution_count": null,
   "metadata": {},
   "outputs": [],
   "source": [
    "filter_to = list(cluster_metadata.loc[cluster_metadata[\"Series ID\"] != 'GSE87849' ,\"SampleGeoAccession\"])"
   ]
  },
  {
   "cell_type": "markdown",
   "metadata": {},
   "source": [
    "Use this URL to investigate samples or series:\n",
    "\n",
    "https://www.ncbi.nlm.nih.gov/geo/query/acc.cgi?acc=GSM2343109\t\n",
    "https://www.ncbi.nlm.nih.gov/geo/query/acc.cgi?acc=GSM742947\t"
   ]
  },
  {
   "cell_type": "markdown",
   "metadata": {},
   "source": [
    "The first sample seems to come from a non-coding RNA profile (and is a solo sample in its series) which can explain why it is so different from the rest of the samples\n",
    "\n",
    "The second sample seems to come from a special series exploring alternative splicing where tissues from 16 different parts of the human body were spliced, the ovary being one. "
   ]
  },
  {
   "cell_type": "markdown",
   "metadata": {},
   "source": [
    "# TODO: Build a function to assess each clustering method with bootstrap validation. (Optional Bonus: group the purity code I have above into functions)"
   ]
  },
  {
   "cell_type": "code",
   "execution_count": 138,
   "metadata": {},
   "outputs": [],
   "source": [
    "clusters = {}\n",
    "for v in range(len(cluster_dict[\"ClusterAssignment\"])):\n",
    "    if cluster_dict[\"ClusterAssignment\"][v] not in clusters:\n",
    "        clusters[cluster_dict[\"ClusterAssignment\"][v]] = []\n",
    "    clusters[cluster_dict[\"ClusterAssignment\"][v]].append(cluster_dict[\"SampleGeoAccession\"][v])"
   ]
  },
  {
   "cell_type": "code",
   "execution_count": 178,
   "metadata": {},
   "outputs": [],
   "source": [
    "import time\n",
    "\n",
    "# function calculate the jaccard coefficient of two vectors, return values\n",
    "def jaccard(a,b):\n",
    "    #print(a)\n",
    "    #print(b)\n",
    "    c = set(a).intersection(set(b))\n",
    "    jacc = float(len(set(c))) / (len(set(a)) + len(set(b)) - len(set(c)))\n",
    "    #print(jacc)\n",
    "    return(jacc)\n",
    "\n",
    "# function that resample a given dataset, return new dataset\n",
    "def resample(df):\n",
    "    df_new = df\n",
    "    allelements = []\n",
    "    for i in range(len(df.index)):\n",
    "        for j in range(len(df.columns)):\n",
    "            allelements.append(df.iat[i,j])\n",
    "    for x in range(len(df.index)):\n",
    "        for y in range(len(df.columns)):\n",
    "            df_new.iat[x,y] = random.choice(allelements)\n",
    "    return (df_new)\n",
    "\n",
    "# Hi Alex, I think maybe returning a list of original clusters which dissovled too often \n",
    "# is more reasonable than returning a data structure according to your description of this function? \n",
    "def hierarchical_bootstrap_validation(df,k, method='average',metric='sqeuclidean',n_bootstraps=100):\n",
    "    x = shc.linkage(df,method=method,metric=metric)\n",
    "    # the list of original clusters \n",
    "    cluster_assignments_x = fcluster(x, k, criterion='maxclust')\n",
    "\n",
    "    xxs = {\"SampleGeoAccession\":[],\"ClusterAssignment\":[]}\n",
    "    xxs[\"SampleGeoAccession\"] = df.index\n",
    "    xxs[\"ClusterAssignment\"] = cluster_assignments_x\n",
    "    xx = {}\n",
    "    for v in range(len(xxs[\"ClusterAssignment\"])):\n",
    "        if xxs[\"ClusterAssignment\"][v] not in xx:\n",
    "            xx[xxs[\"ClusterAssignment\"][v]] = []\n",
    "        xx[xxs[\"ClusterAssignment\"][v]].append(xxs[\"SampleGeoAccession\"][v])\n",
    "        \n",
    "    # record the list of list1\n",
    "    list2 = []\n",
    "    for i in range(n_bootstraps):\n",
    "        #new_df = resample(df)\n",
    "        new_df = df.sample(len(df),replace=True)\n",
    "        y = shc.linkage(new_df,method=method,metric=metric)\n",
    "        # the list of new clusters\n",
    "        cluster_assignments_y = fcluster(y, k, criterion='maxclust')\n",
    "        yys = {\"SampleGeoAccession\":[],\"ClusterAssignment\":[]}\n",
    "        yys[\"SampleGeoAccession\"] = df.index\n",
    "        yys[\"ClusterAssignment\"] = cluster_assignments_x\n",
    "        yy = {}\n",
    "        for v in range(len(yys[\"ClusterAssignment\"])):\n",
    "            if yys[\"ClusterAssignment\"][v] not in yy:\n",
    "                yy[yys[\"ClusterAssignment\"][v]] = []\n",
    "            yy[yys[\"ClusterAssignment\"][v]].append(yys[\"SampleGeoAccession\"][v])\n",
    "                    \n",
    "        # record the max jaccard coefficient of each original clusters \n",
    "\n",
    "        list1 = []\n",
    "            \n",
    "        for j in xx:\n",
    "            max_Jc = 0\n",
    "            for h in yy:\n",
    "                Jc = jaccard(xx[j],yy[h])\n",
    "                if Jc >= max_Jc:\n",
    "                    max_Jc = Jc\n",
    "            list1.append(max_Jc)\n",
    "        list2.append(list1)\n",
    "            \n",
    "    # record the original cluster that dissolved too often\n",
    "    list3 = []\n",
    "    for u in range(len(np.unique(xx))):\n",
    "        z = 0\n",
    "        for v in range(n_bootstraps):\n",
    "            if list2[v][u] < 0.6:\n",
    "                z += 1\n",
    "        # justify if dissovled too often\n",
    "        if z>= (len(xx)/2):\n",
    "            list3.append(xx[u])\n",
    "    return (list2,list3)"
   ]
  },
  {
   "cell_type": "code",
   "execution_count": 179,
   "metadata": {},
   "outputs": [
    {
     "data": {
      "text/plain": [
       "([[1.0, 1.0, 1.0],\n",
       "  [1.0, 1.0, 1.0],\n",
       "  [1.0, 1.0, 1.0],\n",
       "  [1.0, 1.0, 1.0],\n",
       "  [1.0, 1.0, 1.0],\n",
       "  [1.0, 1.0, 1.0],\n",
       "  [1.0, 1.0, 1.0],\n",
       "  [1.0, 1.0, 1.0],\n",
       "  [1.0, 1.0, 1.0],\n",
       "  [1.0, 1.0, 1.0],\n",
       "  [1.0, 1.0, 1.0],\n",
       "  [1.0, 1.0, 1.0],\n",
       "  [1.0, 1.0, 1.0],\n",
       "  [1.0, 1.0, 1.0],\n",
       "  [1.0, 1.0, 1.0],\n",
       "  [1.0, 1.0, 1.0],\n",
       "  [1.0, 1.0, 1.0],\n",
       "  [1.0, 1.0, 1.0],\n",
       "  [1.0, 1.0, 1.0],\n",
       "  [1.0, 1.0, 1.0],\n",
       "  [1.0, 1.0, 1.0],\n",
       "  [1.0, 1.0, 1.0],\n",
       "  [1.0, 1.0, 1.0],\n",
       "  [1.0, 1.0, 1.0],\n",
       "  [1.0, 1.0, 1.0],\n",
       "  [1.0, 1.0, 1.0],\n",
       "  [1.0, 1.0, 1.0],\n",
       "  [1.0, 1.0, 1.0],\n",
       "  [1.0, 1.0, 1.0],\n",
       "  [1.0, 1.0, 1.0],\n",
       "  [1.0, 1.0, 1.0],\n",
       "  [1.0, 1.0, 1.0],\n",
       "  [1.0, 1.0, 1.0],\n",
       "  [1.0, 1.0, 1.0],\n",
       "  [1.0, 1.0, 1.0],\n",
       "  [1.0, 1.0, 1.0],\n",
       "  [1.0, 1.0, 1.0],\n",
       "  [1.0, 1.0, 1.0],\n",
       "  [1.0, 1.0, 1.0],\n",
       "  [1.0, 1.0, 1.0],\n",
       "  [1.0, 1.0, 1.0],\n",
       "  [1.0, 1.0, 1.0],\n",
       "  [1.0, 1.0, 1.0],\n",
       "  [1.0, 1.0, 1.0],\n",
       "  [1.0, 1.0, 1.0],\n",
       "  [1.0, 1.0, 1.0],\n",
       "  [1.0, 1.0, 1.0],\n",
       "  [1.0, 1.0, 1.0],\n",
       "  [1.0, 1.0, 1.0],\n",
       "  [1.0, 1.0, 1.0],\n",
       "  [1.0, 1.0, 1.0],\n",
       "  [1.0, 1.0, 1.0],\n",
       "  [1.0, 1.0, 1.0],\n",
       "  [1.0, 1.0, 1.0],\n",
       "  [1.0, 1.0, 1.0],\n",
       "  [1.0, 1.0, 1.0],\n",
       "  [1.0, 1.0, 1.0],\n",
       "  [1.0, 1.0, 1.0],\n",
       "  [1.0, 1.0, 1.0],\n",
       "  [1.0, 1.0, 1.0],\n",
       "  [1.0, 1.0, 1.0],\n",
       "  [1.0, 1.0, 1.0],\n",
       "  [1.0, 1.0, 1.0],\n",
       "  [1.0, 1.0, 1.0],\n",
       "  [1.0, 1.0, 1.0],\n",
       "  [1.0, 1.0, 1.0],\n",
       "  [1.0, 1.0, 1.0],\n",
       "  [1.0, 1.0, 1.0],\n",
       "  [1.0, 1.0, 1.0],\n",
       "  [1.0, 1.0, 1.0],\n",
       "  [1.0, 1.0, 1.0],\n",
       "  [1.0, 1.0, 1.0],\n",
       "  [1.0, 1.0, 1.0],\n",
       "  [1.0, 1.0, 1.0],\n",
       "  [1.0, 1.0, 1.0],\n",
       "  [1.0, 1.0, 1.0],\n",
       "  [1.0, 1.0, 1.0],\n",
       "  [1.0, 1.0, 1.0],\n",
       "  [1.0, 1.0, 1.0],\n",
       "  [1.0, 1.0, 1.0],\n",
       "  [1.0, 1.0, 1.0],\n",
       "  [1.0, 1.0, 1.0],\n",
       "  [1.0, 1.0, 1.0],\n",
       "  [1.0, 1.0, 1.0],\n",
       "  [1.0, 1.0, 1.0],\n",
       "  [1.0, 1.0, 1.0],\n",
       "  [1.0, 1.0, 1.0],\n",
       "  [1.0, 1.0, 1.0],\n",
       "  [1.0, 1.0, 1.0],\n",
       "  [1.0, 1.0, 1.0],\n",
       "  [1.0, 1.0, 1.0],\n",
       "  [1.0, 1.0, 1.0],\n",
       "  [1.0, 1.0, 1.0],\n",
       "  [1.0, 1.0, 1.0],\n",
       "  [1.0, 1.0, 1.0],\n",
       "  [1.0, 1.0, 1.0],\n",
       "  [1.0, 1.0, 1.0],\n",
       "  [1.0, 1.0, 1.0],\n",
       "  [1.0, 1.0, 1.0],\n",
       "  [1.0, 1.0, 1.0]],\n",
       " [])"
      ]
     },
     "execution_count": 179,
     "metadata": {},
     "output_type": "execute_result"
    }
   ],
   "source": [
    "hierarchical_bootstrap_validation(df_expression_trans,k, method,metric,100)"
   ]
  },
  {
   "cell_type": "markdown",
   "metadata": {},
   "source": [
    "# TODO: Finish Clustering on Samples by gene profiles by replicating what I have above (except don't take the transpose of the expression datafram). Find out optimal way of clustering on as many genes as possible (Below, I only use 100 genes via random sampling. Maybe choose best genes based on regression techniques)"
   ]
  },
  {
   "cell_type": "markdown",
   "metadata": {},
   "source": [
    "## But first, find subset of genes with most counts so we don't overload visualization?"
   ]
  },
  {
   "cell_type": "code",
   "execution_count": null,
   "metadata": {},
   "outputs": [],
   "source": [
    "df_expression_raw[\"gene_sum\"] = df_expression_raw.sum(axis=1)\n"
   ]
  },
  {
   "cell_type": "code",
   "execution_count": null,
   "metadata": {},
   "outputs": [],
   "source": [
    "df_expression_raw.gene_sum"
   ]
  },
  {
   "cell_type": "code",
   "execution_count": null,
   "metadata": {},
   "outputs": [],
   "source": [
    "df_expression_sorted = df_expression_raw.sort_values(\"gene_sum\",ascending=False)\n",
    "plt.hist(df_expression_sorted.gene_sum)\n"
   ]
  },
  {
   "cell_type": "markdown",
   "metadata": {},
   "source": [
    "Let's pick genes with over 600 "
   ]
  },
  {
   "cell_type": "code",
   "execution_count": null,
   "metadata": {},
   "outputs": [],
   "source": [
    "df_expression_raw_subset = df_expression_raw.loc[df_expression_raw.gene_sum > 600,:]\n",
    "print(len(df_expression_raw_subset))"
   ]
  },
  {
   "cell_type": "markdown",
   "metadata": {},
   "source": [
    "IF NECESSARY: Further decrease the sample space by random sampling N(=100) genes"
   ]
  },
  {
   "cell_type": "code",
   "execution_count": null,
   "metadata": {},
   "outputs": [],
   "source": [
    "df_expression_raw_sample = df_expression_raw_subset.sample(100)"
   ]
  },
  {
   "cell_type": "code",
   "execution_count": null,
   "metadata": {},
   "outputs": [],
   "source": [
    "clustering_norm_avg = hierarchical_clustering(df_expression_raw_sample, method='average', metric=\"sqeuclidean\")"
   ]
  },
  {
   "cell_type": "code",
   "execution_count": null,
   "metadata": {},
   "outputs": [],
   "source": []
  },
  {
   "cell_type": "code",
   "execution_count": null,
   "metadata": {},
   "outputs": [],
   "source": []
  },
  {
   "cell_type": "markdown",
   "metadata": {},
   "source": [
    "Need to find a way to make heatmap more informative. Notice bright colors on the corners"
   ]
  },
  {
   "cell_type": "code",
   "execution_count": null,
   "metadata": {},
   "outputs": [],
   "source": [
    "df_expression_raw_sample"
   ]
  },
  {
   "cell_type": "markdown",
   "metadata": {},
   "source": []
  },
  {
   "cell_type": "markdown",
   "metadata": {},
   "source": [
    "Visualization Heatmap"
   ]
  },
  {
   "cell_type": "code",
   "execution_count": null,
   "metadata": {},
   "outputs": [],
   "source": []
  }
 ],
 "metadata": {
  "kernelspec": {
   "display_name": "Python 3",
   "language": "python",
   "name": "python3"
  },
  "language_info": {
   "codemirror_mode": {
    "name": "ipython",
    "version": 3
   },
   "file_extension": ".py",
   "mimetype": "text/x-python",
   "name": "python",
   "nbconvert_exporter": "python",
   "pygments_lexer": "ipython3",
   "version": "3.7.3"
  }
 },
 "nbformat": 4,
 "nbformat_minor": 2
}
