{
 "cells": [
  {
   "cell_type": "markdown",
   "metadata": {},
   "source": [
    "# Python Setup"
   ]
  },
  {
   "cell_type": "markdown",
   "metadata": {},
   "source": [
    "## Imports"
   ]
  },
  {
   "cell_type": "code",
   "execution_count": 1,
   "metadata": {},
   "outputs": [],
   "source": [
    "import os\n",
    "import requests\n",
    "import shutil\n",
    "import h5py\n",
    "import numpy as np\n",
    "import pandas as pd\n",
    "import time"
   ]
  },
  {
   "cell_type": "markdown",
   "metadata": {},
   "source": [
    "Set the filepath where you want to write the h5 file (about 8GB)"
   ]
  },
  {
   "cell_type": "code",
   "execution_count": 2,
   "metadata": {},
   "outputs": [],
   "source": [
    "filepath = \"../data/raw/human_matrix.h5\""
   ]
  },
  {
   "cell_type": "markdown",
   "metadata": {},
   "source": [
    "## Download the File"
   ]
  },
  {
   "cell_type": "markdown",
   "metadata": {},
   "source": [
    "can take 10-30 min. \n",
    "\n",
    "***Note*** on windows, we need to write the file in binary format otherwise the newline characters get converted and the file can no longer be read as H5. If on mac or linux, you can replace the part that says 'wb' to 'w'"
   ]
  },
  {
   "cell_type": "code",
   "execution_count": 5,
   "metadata": {},
   "outputs": [
    {
     "name": "stdout",
     "output_type": "stream",
     "text": [
      "Downloading compressed gene expression matrix.\n"
     ]
    }
   ],
   "source": [
    "out_file = filepath\n",
    "\n",
    "# Check if gene expression file was already downloaded, if not in current directory download file form repository\n",
    "if(not os.path.exists(out_file)):\n",
    "    print(\"Downloading compressed gene expression matrix.\")\n",
    "    url = \"https://s3.amazonaws.com/mssm-seq-matrix/human_matrix.h5\"\n",
    "    r = requests.get(url, stream=True)\n",
    "    if r.status_code == 200:\n",
    "        with open(out_file, 'wb') as f:\n",
    "            shutil.copyfileobj(r.raw, f)\n",
    "    del r \n",
    "else:\n",
    "    print(\"Local file already exists.\")\n",
    "\n"
   ]
  },
  {
   "cell_type": "markdown",
   "metadata": {},
   "source": [
    "## How to use H5PY\n",
    "for quick start guide: http://docs.h5py.org/en/stable/quick.html"
   ]
  },
  {
   "cell_type": "markdown",
   "metadata": {},
   "source": [
    "read the file with h5py. I use keyword \"with\" to make sure the file always closes after running the cell"
   ]
  },
  {
   "cell_type": "code",
   "execution_count": 4,
   "metadata": {},
   "outputs": [
    {
     "name": "stdout",
     "output_type": "stream",
     "text": [
      "Keys: <KeysViewHDF5 ['data', 'info', 'meta']>\n"
     ]
    }
   ],
   "source": [
    "with h5py.File(filepath, \"r\") as f:\n",
    "    # List all groups\n",
    "    print(\"Keys: %s\" % f.keys())\n",
    "    a_group_key = list(f.keys())[0]\n"
   ]
  },
  {
   "cell_type": "markdown",
   "metadata": {},
   "source": [
    "Or you can open the file like so and remember to call the close() function after you're done"
   ]
  },
  {
   "cell_type": "code",
   "execution_count": 5,
   "metadata": {},
   "outputs": [
    {
     "name": "stdout",
     "output_type": "stream",
     "text": [
      "Keys: <KeysViewHDF5 ['data', 'info', 'meta']>\n"
     ]
    }
   ],
   "source": [
    "f = h5py.File(filepath, 'r')\n",
    "print(\"Keys: %s\" % f.keys())\n",
    "f.close()"
   ]
  },
  {
   "cell_type": "markdown",
   "metadata": {},
   "source": [
    "Here we see three groups of keys in our file (think of it like a dictionary): \n",
    "- Info (lab stuff)\n",
    "- meta (important gene and sample information)\n",
    "- data (stores the actual expression matrix)"
   ]
  },
  {
   "cell_type": "code",
   "execution_count": 6,
   "metadata": {},
   "outputs": [
    {
     "name": "stdout",
     "output_type": "stream",
     "text": [
      "Info Keys: \n",
      "\n",
      "['author', 'contact', 'creation-date', 'lab', 'version']\n",
      "\n",
      "meta Keys: \n",
      "\n",
      "['Sample_channel_count', 'Sample_characteristics_ch1', 'Sample_contact_address', 'Sample_contact_city', 'Sample_contact_country', 'Sample_contact_department', 'Sample_contact_email', 'Sample_contact_institute', 'Sample_contact_laboratory', 'Sample_contact_name', 'Sample_contact_phone', 'Sample_contact_zip-postal_code', 'Sample_data_processing', 'Sample_data_row_count', 'Sample_description', 'Sample_extract_protocol_ch1', 'Sample_geo_accession', 'Sample_instrument_model', 'Sample_last_update_date', 'Sample_library_selection', 'Sample_library_source', 'Sample_library_strategy', 'Sample_molecule_ch1', 'Sample_organism_ch1', 'Sample_platform_id', 'Sample_relation', 'Sample_series_id', 'Sample_source_name_ch1', 'Sample_status', 'Sample_submission_date', 'Sample_supplementary_file_1', 'Sample_supplementary_file_2', 'Sample_taxid_ch1', 'Sample_title', 'Sample_type', 'gene_accession', 'gene_chromosome', 'gene_entrezid', 'gene_hgnc', 'gene_name', 'gene_refseqid', 'gene_synonym', 'genes', 'reads_aligned', 'reads_total']\n",
      "\n",
      "data Key:\n",
      "\n",
      "['expression']\n"
     ]
    }
   ],
   "source": [
    "with h5py.File(filepath, \"r\") as f:\n",
    "    print(\"Info Keys: \\n\")\n",
    "    print(list(f['info'].keys()))\n",
    "    print(\"\\nmeta Keys: \\n\")\n",
    "    print(list(f['meta'].keys()))\n",
    "    print(\"\\ndata Key:\\n\")\n",
    "    print(list(f['data'].keys()))"
   ]
  },
  {
   "cell_type": "code",
   "execution_count": 7,
   "metadata": {},
   "outputs": [
    {
     "name": "stdout",
     "output_type": "stream",
     "text": [
      "(238522, 35238)\n"
     ]
    }
   ],
   "source": [
    "with h5py.File(filepath, \"r\") as f:\n",
    "    human_matrix = f[\"data\"][\"expression\"]\n",
    "    print(human_matrix.shape)"
   ]
  },
  {
   "cell_type": "code",
   "execution_count": 10,
   "metadata": {},
   "outputs": [
    {
     "ename": "NameError",
     "evalue": "name 'np' is not defined",
     "output_type": "error",
     "traceback": [
      "\u001b[1;31m---------------------------------------------------------------------------\u001b[0m",
      "\u001b[1;31mNameError\u001b[0m                                 Traceback (most recent call last)",
      "\u001b[1;32m<ipython-input-10-51d0868aa4eb>\u001b[0m in \u001b[0;36m<module>\u001b[1;34m\u001b[0m\n\u001b[0;32m      1\u001b[0m \u001b[1;32mwith\u001b[0m \u001b[0mh5py\u001b[0m\u001b[1;33m.\u001b[0m\u001b[0mFile\u001b[0m\u001b[1;33m(\u001b[0m\u001b[0mfilepath\u001b[0m\u001b[1;33m,\u001b[0m \u001b[1;34m\"r\"\u001b[0m\u001b[1;33m)\u001b[0m \u001b[1;32mas\u001b[0m \u001b[0mf\u001b[0m\u001b[1;33m:\u001b[0m\u001b[1;33m\u001b[0m\u001b[1;33m\u001b[0m\u001b[0m\n\u001b[1;32m----> 2\u001b[1;33m     \u001b[0mblah\u001b[0m \u001b[1;33m=\u001b[0m \u001b[0mnp\u001b[0m\u001b[1;33m.\u001b[0m\u001b[0marray\u001b[0m\u001b[1;33m(\u001b[0m\u001b[0mf\u001b[0m\u001b[1;33m[\u001b[0m\u001b[1;34m\"data\"\u001b[0m\u001b[1;33m]\u001b[0m\u001b[1;33m[\u001b[0m\u001b[1;34m\"expression\"\u001b[0m\u001b[1;33m]\u001b[0m\u001b[1;33m)\u001b[0m\u001b[1;33m.\u001b[0m\u001b[0mreshape\u001b[0m\u001b[1;33m(\u001b[0m\u001b[1;36m238522\u001b[0m\u001b[1;33m*\u001b[0m\u001b[1;36m35238\u001b[0m\u001b[1;33m)\u001b[0m\u001b[1;33m\u001b[0m\u001b[1;33m\u001b[0m\u001b[0m\n\u001b[0m",
      "\u001b[1;31mNameError\u001b[0m: name 'np' is not defined"
     ]
    }
   ],
   "source": []
  },
  {
   "cell_type": "markdown",
   "metadata": {},
   "source": [
    "our matrix has 238522 rows (samples) and 35238 columns (genes)"
   ]
  },
  {
   "cell_type": "markdown",
   "metadata": {},
   "source": [
    "You can also access keys using forward slash (/):"
   ]
  },
  {
   "cell_type": "code",
   "execution_count": 111,
   "metadata": {},
   "outputs": [
    {
     "name": "stdout",
     "output_type": "stream",
     "text": [
      "int32\n"
     ]
    }
   ],
   "source": [
    "with h5py.File(filepath, \"r\") as f:\n",
    "    human_matrix = f[\"data/expression\"]\n",
    "    print(human_matrix.dtype)"
   ]
  },
  {
   "cell_type": "markdown",
   "metadata": {},
   "source": [
    "Since our data is counts, they are stored as integers"
   ]
  },
  {
   "cell_type": "markdown",
   "metadata": {},
   "source": [
    "## Exploratory Data Analysis"
   ]
  },
  {
   "cell_type": "markdown",
   "metadata": {},
   "source": [
    "Here I print out basic info for each list in the meta keys including length of list, the datatype, and the first 10 values in that list."
   ]
  },
  {
   "cell_type": "code",
   "execution_count": null,
   "metadata": {},
   "outputs": [],
   "source": [
    "with h5py.File(filepath, \"r\") as f:\n",
    "    human_meta = f[\"meta/Sample_data_processing\"]\n",
    "    "
   ]
  },
  {
   "cell_type": "code",
   "execution_count": 112,
   "metadata": {},
   "outputs": [
    {
     "name": "stdout",
     "output_type": "stream",
     "text": [
      "Sample_channel_count\n",
      "\tLength: 238522\n",
      "\tDtype: |S100\n",
      "\tFirst 10 Values: ['1', '1', '1', '1', '1', '1', '1', '1', '1', '1']\n",
      "\n",
      "\n",
      "\n",
      "\n",
      "Sample_characteristics_ch1\n",
      "\tLength: 238522\n",
      "\tDtype: |S100\n",
      "\tFirst 10 Values: ['cell line: HeLaXx-xXknockdown: ELAVL1/HuR siRNA1 (see Lebedeva et. Al 2011)Xx-xXtime post transfect', 'library type: single-endXx-xXread length: 50', 'library type: single-endXx-xXread length: 50', 'library type: single-endXx-xXread length: 50', 'cell line: HeLaXx-xXknockdown: mockXx-xXtime post transfection: 120h', 'library type: single-endXx-xXread length: 50', 'library type: single-endXx-xXread length: 50', 'library type: single-endXx-xXread length: 50', 'library type: single-endXx-xXread length: 50', 'library type: single-endXx-xXread length: 50']\n",
      "\n",
      "\n",
      "\n",
      "\n",
      "Sample_contact_address\n",
      "\tLength: 238522\n",
      "\tDtype: |S100\n",
      "\tFirst 10 Values: ['Robert Rössle Str. 10 (H. 87)', '77 Massachusetts Avenue, 68-223A', '77 Massachusetts Avenue, 68-223A', '77 Massachusetts Avenue, 68-223A', 'Robert Rössle Str. 10 (H. 87)', '77 Massachusetts Avenue, 68-223A', '77 Massachusetts Avenue, 68-223A', '77 Massachusetts Avenue, 68-223A', '77 Massachusetts Avenue, 68-223A', '77 Massachusetts Avenue, 68-223A']\n",
      "\n",
      "\n",
      "\n",
      "\n",
      "Sample_contact_city\n",
      "\tLength: 238522\n",
      "\tDtype: |S100\n",
      "\tFirst 10 Values: ['Berlin', 'Cambridge', 'Cambridge', 'Cambridge', 'Berlin', 'Cambridge', 'Cambridge', 'Cambridge', 'Cambridge', 'Cambridge']\n",
      "\n",
      "\n",
      "\n",
      "\n",
      "Sample_contact_country\n",
      "\tLength: 238522\n",
      "\tDtype: |S100\n",
      "\tFirst 10 Values: ['Germany', 'USA', 'USA', 'USA', 'Germany', 'USA', 'USA', 'USA', 'USA', 'USA']\n",
      "\n",
      "\n",
      "\n",
      "\n",
      "Sample_contact_department\n",
      "\tLength: 238522\n",
      "\tDtype: |S100\n",
      "\tFirst 10 Values: ['Systems Biology of Gene Regulatory Elements', 'Biology', 'Biology', 'Biology', 'Systems Biology of Gene Regulatory Elements', 'Biology', 'Biology', 'Biology', 'Biology', 'Biology']\n",
      "\n",
      "\n",
      "\n",
      "\n",
      "Sample_contact_email\n",
      "\tLength: 238522\n",
      "\tDtype: |S100\n",
      "\tFirst 10 Values: ['marvin.jens@mdc-berlin.de', '', '', '', 'marvin.jens@mdc-berlin.de', '', '', '', '', '']\n",
      "\n",
      "\n",
      "\n",
      "\n",
      "Sample_contact_institute\n",
      "\tLength: 238522\n",
      "\tDtype: |S100\n",
      "\tFirst 10 Values: ['Max Delbrueck Center for Molecular Medicine', 'MIT', 'MIT', 'MIT', 'Max Delbrueck Center for Molecular Medicine', 'MIT', 'MIT', 'MIT', 'MIT', 'MIT']\n",
      "\n",
      "\n",
      "\n",
      "\n",
      "Sample_contact_laboratory\n",
      "\tLength: 238522\n",
      "\tDtype: |S100\n",
      "\tFirst 10 Values: ['Rajewsky lab', '', '', '', 'Rajewsky lab', '', '', '', '', '']\n",
      "\n",
      "\n",
      "\n",
      "\n",
      "Sample_contact_name\n",
      "\tLength: 238522\n",
      "\tDtype: |S100\n",
      "\tFirst 10 Values: ['Marvin,,Jens', 'Robert,K,Bradley', 'Robert,K,Bradley', 'Robert,K,Bradley', 'Marvin,,Jens', 'Robert,K,Bradley', 'Robert,K,Bradley', 'Robert,K,Bradley', 'Robert,K,Bradley', 'Robert,K,Bradley']\n",
      "\n",
      "\n",
      "\n",
      "\n",
      "Sample_contact_phone\n",
      "\tLength: 238522\n",
      "\tDtype: |S100\n",
      "\tFirst 10 Values: ['+493094062989', '', '', '', '+493094062989', '', '', '', '', '']\n",
      "\n",
      "\n",
      "\n",
      "\n",
      "Sample_contact_zip-postal_code\n",
      "\tLength: 238522\n",
      "\tDtype: |S100\n",
      "\tFirst 10 Values: ['13092', '02139', '02139', '02139', '13092', '02139', '02139', '02139', '02139', '02139']\n",
      "\n",
      "\n",
      "\n",
      "\n",
      "Sample_data_processing\n",
      "\tLength: 238522\n",
      "\tDtype: |S100\n",
      "\tFirst 10 Values: ['No adapter removal was performed. Raw reads were converted to fastq and mapped with TopHat, supplyi', 'Alignment: The files human.nagnag.junctions.gff and mouse.nagnag.junctions.gff (see Series suppleme', 'Alignment: The files human.nagnag.junctions.gff and mouse.nagnag.junctions.gff (see Series suppleme', 'Alignment: The files human.nagnag.junctions.gff and mouse.nagnag.junctions.gff (see Series suppleme', 'No adapter removal was performed. Raw reads were converted to fastq and mapped with TopHat, supplyi', 'Alignment: The files human.nagnag.junctions.gff and mouse.nagnag.junctions.gff (see Series suppleme', 'Alignment: The files human.nagnag.junctions.gff and mouse.nagnag.junctions.gff (see Series suppleme', 'Alignment: The files human.nagnag.junctions.gff and mouse.nagnag.junctions.gff (see Series suppleme', 'Alignment: The files human.nagnag.junctions.gff and mouse.nagnag.junctions.gff (see Series suppleme', 'Alignment: The files human.nagnag.junctions.gff and mouse.nagnag.junctions.gff (see Series suppleme']\n",
      "\n",
      "\n",
      "\n",
      "\n",
      "Sample_data_row_count\n",
      "\tLength: 238522\n",
      "\tDtype: |S100\n",
      "\tFirst 10 Values: ['0', '0', '0', '0', '0', '0', '0', '0', '0', '0']\n",
      "\n",
      "\n",
      "\n",
      "\n",
      "Sample_description\n",
      "\tLength: 238522\n",
      "\tDtype: |S100\n",
      "\tFirst 10 Values: ['120h post transfection with anti HuR siRNA1', '', '', '', 'reference sample collected 5 days after treatment with transfection reagents but no siRNA', '', '', '', '', '']\n",
      "\n",
      "\n",
      "\n",
      "\n",
      "Sample_extract_protocol_ch1\n",
      "\tLength: 238522\n",
      "\tDtype: |S100\n",
      "\tFirst 10 Values: ['Illumina paired end polyA standard protocol, fragment length ~250nt, stddev ~50nt.', 'Human: RNA-Seq libraries are from the Body Map 2.0 dataset distributed by Illumina, available at th', 'Human: RNA-Seq libraries are from the Body Map 2.0 dataset distributed by Illumina, available at th', 'Human: RNA-Seq libraries are from the Body Map 2.0 dataset distributed by Illumina, available at th', 'Illumina paired end polyA standard protocol, fragment length ~250nt, stddev ~50nt.', 'Human: RNA-Seq libraries are from the Body Map 2.0 dataset distributed by Illumina, available at th', 'Human: RNA-Seq libraries are from the Body Map 2.0 dataset distributed by Illumina, available at th', 'Human: RNA-Seq libraries are from the Body Map 2.0 dataset distributed by Illumina, available at th', 'Human: RNA-Seq libraries are from the Body Map 2.0 dataset distributed by Illumina, available at th', 'Human: RNA-Seq libraries are from the Body Map 2.0 dataset distributed by Illumina, available at th']\n",
      "\n",
      "\n",
      "\n",
      "\n",
      "Sample_geo_accession\n",
      "\tLength: 238522\n",
      "\tDtype: |S100\n",
      "\tFirst 10 Values: ['GSM741172', 'GSM742939', 'GSM742942', 'GSM742946', 'GSM741170', 'GSM742947', 'GSM742943', 'GSM742944', 'GSM742951', 'GSM742940']\n",
      "\n",
      "\n",
      "\n",
      "\n",
      "Sample_instrument_model\n",
      "\tLength: 238522\n",
      "\tDtype: |S100\n",
      "\tFirst 10 Values: ['Illumina HiSeq 2000', 'Illumina HiSeq 2000', 'Illumina HiSeq 2000', 'Illumina HiSeq 2000', 'Illumina HiSeq 2000', 'Illumina HiSeq 2000', 'Illumina HiSeq 2000', 'Illumina HiSeq 2000', 'Illumina HiSeq 2000', 'Illumina HiSeq 2000']\n",
      "\n",
      "\n",
      "\n",
      "\n",
      "Sample_last_update_date\n",
      "\tLength: 238522\n",
      "\tDtype: |S100\n",
      "\tFirst 10 Values: ['Mar 11 2015', 'May 23 2013', 'May 23 2013', 'Jun 01 2016', 'May 23 2013', 'May 23 2013', 'May 23 2013', 'May 23 2013', 'May 23 2013', 'May 23 2013']\n",
      "\n",
      "\n",
      "\n",
      "\n",
      "Sample_library_selection\n",
      "\tLength: 238522\n",
      "\tDtype: |S100\n",
      "\tFirst 10 Values: ['other', 'cDNA', 'cDNA', 'cDNA', 'other', 'cDNA', 'cDNA', 'cDNA', 'cDNA', 'cDNA']\n",
      "\n",
      "\n",
      "\n",
      "\n",
      "Sample_library_source\n",
      "\tLength: 238522\n",
      "\tDtype: |S100\n",
      "\tFirst 10 Values: ['transcriptomic', 'transcriptomic', 'transcriptomic', 'transcriptomic', 'transcriptomic', 'transcriptomic', 'transcriptomic', 'transcriptomic', 'transcriptomic', 'transcriptomic']\n",
      "\n",
      "\n",
      "\n",
      "\n",
      "Sample_library_strategy\n",
      "\tLength: 238522\n",
      "\tDtype: |S100\n",
      "\tFirst 10 Values: ['RNA-Seq', 'RNA-Seq', 'RNA-Seq', 'RNA-Seq', 'RNA-Seq', 'RNA-Seq', 'RNA-Seq', 'RNA-Seq', 'RNA-Seq', 'RNA-Seq']\n",
      "\n",
      "\n",
      "\n",
      "\n",
      "Sample_molecule_ch1\n",
      "\tLength: 238522\n",
      "\tDtype: |S100\n",
      "\tFirst 10 Values: ['total RNA', 'polyA RNA', 'polyA RNA', 'polyA RNA', 'total RNA', 'polyA RNA', 'polyA RNA', 'polyA RNA', 'polyA RNA', 'polyA RNA']\n",
      "\n",
      "\n",
      "\n",
      "\n",
      "Sample_organism_ch1\n",
      "\tLength: 238522\n",
      "\tDtype: |S100\n",
      "\tFirst 10 Values: ['Homo sapiens', 'Homo sapiens', 'Homo sapiens', 'Homo sapiens', 'Homo sapiens', 'Homo sapiens', 'Homo sapiens', 'Homo sapiens', 'Homo sapiens', 'Homo sapiens']\n",
      "\n",
      "\n",
      "\n",
      "\n",
      "Sample_platform_id\n",
      "\tLength: 238522\n",
      "\tDtype: |S100\n",
      "\tFirst 10 Values: ['GPL11154', 'GPL11154', 'GPL11154', 'GPL11154', 'GPL11154', 'GPL11154', 'GPL11154', 'GPL11154', 'GPL11154', 'GPL11154']\n",
      "\n",
      "\n",
      "\n",
      "\n",
      "Sample_relation\n",
      "\tLength: 238522\n",
      "\tDtype: |S100\n",
      "\tFirst 10 Values: ['SRA: https://www.ncbi.nlm.nih.gov/sra?term=SRX083304Xx-xXBioSample: https://www.ncbi.nlm.nih.gov/bi', 'SRA: https://www.ncbi.nlm.nih.gov/sra?term=SRX079945Xx-xXBioSample: https://www.ncbi.nlm.nih.gov/bi', 'SRA: https://www.ncbi.nlm.nih.gov/sra?term=SRX079948Xx-xXBioSample: https://www.ncbi.nlm.nih.gov/bi', 'Reanalyzed by: GSE81474Xx-xXSRA: https://www.ncbi.nlm.nih.gov/sra?term=SRX079952Xx-xXBioSample: htt', 'SRA: https://www.ncbi.nlm.nih.gov/sra?term=SRX083302Xx-xXBioSample: https://www.ncbi.nlm.nih.gov/bi', 'SRA: https://www.ncbi.nlm.nih.gov/sra?term=SRX079953Xx-xXBioSample: https://www.ncbi.nlm.nih.gov/bi', 'SRA: https://www.ncbi.nlm.nih.gov/sra?term=SRX079949Xx-xXBioSample: https://www.ncbi.nlm.nih.gov/bi', 'SRA: https://www.ncbi.nlm.nih.gov/sra?term=SRX079950Xx-xXBioSample: https://www.ncbi.nlm.nih.gov/bi', 'SRA: https://www.ncbi.nlm.nih.gov/sra?term=SRX079957Xx-xXBioSample: https://www.ncbi.nlm.nih.gov/bi', 'SRA: https://www.ncbi.nlm.nih.gov/sra?term=SRX079946Xx-xXBioSample: https://www.ncbi.nlm.nih.gov/bi']\n",
      "\n",
      "\n",
      "\n",
      "\n",
      "Sample_series_id\n",
      "\tLength: 238522\n",
      "\tDtype: |S100\n",
      "\tFirst 10 Values: ['GSE29943', 'GSE30017', 'GSE30017', 'GSE30017', 'GSE29943', 'GSE30017', 'GSE30017', 'GSE30017', 'GSE30017', 'GSE30017']\n",
      "\n",
      "\n",
      "\n",
      "\n",
      "Sample_source_name_ch1\n",
      "\tLength: 238522\n",
      "\tDtype: |S100\n",
      "\tFirst 10 Values: ['HeLa ELAVL1/HuR siRNA1 5d', 'brain', 'heart', 'lymph node', 'HeLa mock knockdown 5d', 'ovary', 'kidney', 'liver', 'thyroid', 'breast']\n",
      "\n",
      "\n",
      "\n",
      "\n",
      "Sample_status\n",
      "\tLength: 238522\n",
      "\tDtype: |S100\n",
      "\tFirst 10 Values: ['Public on Jun 30 2011', 'Public on Jan 05 2012', 'Public on Jan 05 2012', 'Public on Jan 05 2012', 'Public on Jun 30 2011', 'Public on Jan 05 2012', 'Public on Jan 05 2012', 'Public on Jan 05 2012', 'Public on Jan 05 2012', 'Public on Jan 05 2012']\n",
      "\n",
      "\n",
      "\n",
      "\n",
      "Sample_submission_date\n",
      "\tLength: 238522\n",
      "\tDtype: |S100\n"
     ]
    },
    {
     "name": "stdout",
     "output_type": "stream",
     "text": [
      "\tFirst 10 Values: ['Jun 13 2011', 'Jun 16 2011', 'Jun 16 2011', 'Jun 16 2011', 'Jun 13 2011', 'Jun 16 2011', 'Jun 16 2011', 'Jun 16 2011', 'Jun 16 2011', 'Jun 16 2011']\n",
      "\n",
      "\n",
      "\n",
      "\n",
      "Sample_supplementary_file_1\n",
      "\tLength: 238522\n",
      "\tDtype: |S100\n",
      "\tFirst 10 Values: ['ftp://ftp.ncbi.nlm.nih.gov/geo/samples/GSM741nnn/GSM741172/suppl/GSM741172_siRNA1_5d.wig.gz', 'ftp://ftp.ncbi.nlm.nih.gov/geo/samples/GSM742nnn/GSM742939/suppl/GSM742939_human_brain.single.bwtou', 'ftp://ftp.ncbi.nlm.nih.gov/geo/samples/GSM742nnn/GSM742942/suppl/GSM742942_human_heart.single.bwtou', 'ftp://ftp.ncbi.nlm.nih.gov/geo/samples/GSM742nnn/GSM742946/suppl/GSM742946_human_lymph_node.single.', 'ftp://ftp.ncbi.nlm.nih.gov/geo/samples/GSM741nnn/GSM741170/suppl/GSM741170_mock_5d.wig.gz', 'ftp://ftp.ncbi.nlm.nih.gov/geo/samples/GSM742nnn/GSM742947/suppl/GSM742947_human_ovary.single.bwtou', 'ftp://ftp.ncbi.nlm.nih.gov/geo/samples/GSM742nnn/GSM742943/suppl/GSM742943_human_kidney.single.bwto', 'ftp://ftp.ncbi.nlm.nih.gov/geo/samples/GSM742nnn/GSM742944/suppl/GSM742944_human_liver.single.bwtou', 'ftp://ftp.ncbi.nlm.nih.gov/geo/samples/GSM742nnn/GSM742951/suppl/GSM742951_human_thyroid.single.bwt', 'ftp://ftp.ncbi.nlm.nih.gov/geo/samples/GSM742nnn/GSM742940/suppl/GSM742940_human_breast.single.bwto']\n",
      "\n",
      "\n",
      "\n",
      "\n",
      "Sample_supplementary_file_2\n",
      "\tLength: 238522\n",
      "\tDtype: |S100\n",
      "\tFirst 10 Values: ['', '', '', '', '', '', '', '', '', '']\n",
      "\n",
      "\n",
      "\n",
      "\n",
      "Sample_taxid_ch1\n",
      "\tLength: 238522\n",
      "\tDtype: |S100\n",
      "\tFirst 10 Values: ['9606', '9606', '9606', '9606', '9606', '9606', '9606', '9606', '9606', '9606']\n",
      "\n",
      "\n",
      "\n",
      "\n",
      "Sample_title\n",
      "\tLength: 238522\n",
      "\tDtype: |S100\n",
      "\tFirst 10 Values: ['HeLa ELAVL1/HuR siRNA1 5d', 'human_brain.single', 'human_heart.single', 'human_lymph_node.single', 'HeLa mock knockdown 5d', 'human_ovary.single', 'human_kidney.single', 'human_liver.single', 'human_thyroid.single', 'human_breast.single']\n",
      "\n",
      "\n",
      "\n",
      "\n",
      "Sample_type\n",
      "\tLength: 238522\n",
      "\tDtype: |S100\n",
      "\tFirst 10 Values: ['SRA', 'SRA', 'SRA', 'SRA', 'SRA', 'SRA', 'SRA', 'SRA', 'SRA', 'SRA']\n",
      "\n",
      "\n",
      "\n",
      "\n",
      "gene_accession\n",
      "\tLength: 35238\n",
      "\tDtype: |S57\n",
      "\tFirst 10 Values: ['', 'AF271790', 'BX647329, X68728, M11313', 'AK057908', 'M24415', '', '', 'AF141315', 'AJ289841', 'AK022451']\n",
      "\n",
      "\n",
      "\n",
      "\n",
      "gene_chromosome\n",
      "\tLength: 35238\n",
      "\tDtype: |S35\n",
      "\tFirst 10 Values: ['19q13.43', '10q11.23', '12p13.31', '12p13.31', '12p13.31', '1p35.1', '22q13.2', '3q22.3', '12q13.13', '12q24.31']\n",
      "\n",
      "\n",
      "\n",
      "\n",
      "gene_entrezid\n",
      "\tLength: 35238\n",
      "\tDtype: |S10\n",
      "\tFirst 10 Values: ['1', '29974', '2', '144568', '3', '127550', '53947', '51146', '8086', '65985']\n",
      "\n",
      "\n",
      "\n",
      "\n",
      "gene_hgnc\n",
      "\tLength: 35238\n",
      "\tDtype: |S11\n",
      "\tFirst 10 Values: ['HGNC:5', 'HGNC:24086', 'HGNC:7', 'HGNC:23336', 'HGNC:8', 'HGNC:30005', 'HGNC:18149', 'HGNC:17968', 'HGNC:13666', 'HGNC:21298']\n",
      "\n",
      "\n",
      "\n",
      "\n",
      "gene_name\n",
      "\tLength: 35238\n",
      "\tDtype: |S126\n",
      "\tFirst 10 Values: ['alpha-1-B glycoprotein', 'APOBEC1 complementation factor', 'alpha-2-macroglobulin', 'alpha-2-macroglobulin like 1', 'alpha-2-macroglobulin pseudogene 1', 'alpha 1,3-galactosyltransferase 2', 'alpha 1,4-galactosyltransferase (P blood group)', 'alpha-1,4-N-acetylglucosaminyltransferase', 'aladin WD repeat nucleoporin', 'acetoacetyl-CoA synthetase']\n",
      "\n",
      "\n",
      "\n",
      "\n",
      "gene_refseqid\n",
      "\tLength: 35238\n",
      "\tDtype: |S76\n",
      "\tFirst 10 Values: ['NM_130786', 'NM_014576', 'NM_000014', 'NM_144670', 'NG_001067', 'NM_001080438', 'NM_017436', 'NM_016161', '', 'NM_023928']\n",
      "\n",
      "\n",
      "\n",
      "\n",
      "gene_synonym\n",
      "\tLength: 35238\n",
      "\tDtype: |S133\n",
      "\tFirst 10 Values: ['', 'ACF, ASP, ACF64, ACF65, APOBEC1CF', 'FWP007, S863-7, CPAMD5', 'FLJ25179, p170', '', 'IGBS3S, IGB3S', 'A14GALT, Gb3S, P(k)', 'alpha4GnT', '', 'FLJ12389, SUR-5, ACSF1']\n",
      "\n",
      "\n",
      "\n",
      "\n",
      "genes\n",
      "\tLength: 35238\n",
      "\tDtype: |S20\n",
      "\tFirst 10 Values: ['A1BG', 'A1CF', 'A2M', 'A2ML1', 'A2MP1', 'A3GALT2', 'A4GALT', 'A4GNT', 'AAAS', 'AACS']\n",
      "\n",
      "\n",
      "\n",
      "\n",
      "reads_aligned\n",
      "\tLength: 238522\n",
      "\tDtype: float64\n",
      "\tFirst 10 Values: [59390787.   279012.   334358.   336430. 61676490.   435207.   303697.\n",
      "   321948.   508669.   375149.]\n",
      "\n",
      "\n",
      "\n",
      "\n",
      "reads_total\n",
      "\tLength: 238522\n",
      "\tDtype: float64\n",
      "\tFirst 10 Values: [76532846.   281357.   337376.   339511. 77598048.   442289.   306984.\n",
      "   323971.   514390.   377731.]\n",
      "\n",
      "\n",
      "\n",
      "\n"
     ]
    }
   ],
   "source": [
    "with h5py.File(filepath, \"r\") as f:\n",
    "    human_meta = f[\"meta\"]\n",
    "    for m in human_meta.keys():\n",
    "        print(m)\n",
    "        val = human_meta[m]\n",
    "        print(\"\\tLength: \" + str(len(val)))\n",
    "        print(\"\\tDtype: \" + str(val.dtype))\n",
    "        #If data type is string, then I decode value from binary to get special characters and to make it easier to read\n",
    "        if(\"|S\" in str(val.dtype)):\n",
    "            print(\"\\tFirst 10 Values: \" + str([i.decode() for i in val.value[0:10]]))\n",
    "        else:\n",
    "            print(\"\\tFirst 10 Values: \" + str(val.value[0:10]))\n",
    "        print(\"\\n\\n\\n\")\n",
    "        "
   ]
  },
  {
   "cell_type": "markdown",
   "metadata": {},
   "source": [
    "Observe that every key in meta that starts with gene contains a value of a list of length 35238 corresponding to the indices of columns of the matrix under data/expression. Every key in meta that starts with \"Sample\" or \"reads\" contains a value of a list of length 238522 corresponding to each row of the matrix. "
   ]
  },
  {
   "cell_type": "markdown",
   "metadata": {},
   "source": [
    "I do the same thing now for the info keys"
   ]
  },
  {
   "cell_type": "code",
   "execution_count": 113,
   "metadata": {},
   "outputs": [
    {
     "name": "stdout",
     "output_type": "stream",
     "text": [
      "author\n",
      "\tLength: 1\n",
      "\tDtype: |S19\n",
      "\tValue: ['Alexander Lachmann']\n",
      "\n",
      "\n",
      "\n",
      "\n",
      "contact\n",
      "\tLength: 1\n",
      "\tDtype: |S28\n",
      "\tValue: ['alexander.lachmann@mssm.edu']\n",
      "\n",
      "\n",
      "\n",
      "\n",
      "creation-date\n",
      "\tLength: 1\n",
      "\tDtype: |S11\n",
      "\tValue: ['2020-02-06']\n",
      "\n",
      "\n",
      "\n",
      "\n",
      "lab\n",
      "\tLength: 1\n",
      "\tDtype: |S54\n",
      "\tValue: [\"Ma'ayan Lab - Icahn School of Medicine at Mount Sinai\"]\n",
      "\n",
      "\n",
      "\n",
      "\n",
      "version\n",
      "\tLength: 1\n",
      "\tDtype: |S2\n",
      "\tValue: ['8']\n",
      "\n",
      "\n",
      "\n",
      "\n"
     ]
    }
   ],
   "source": [
    "with h5py.File(filepath, \"r\") as f:\n",
    "    human_info = f[\"info\"]\n",
    "    for info in human_info.keys():\n",
    "        print(info)\n",
    "        val = human_info[info]\n",
    "        print(\"\\tLength: \" + str(len(val)))\n",
    "        print(\"\\tDtype: \" + str(val.dtype))\n",
    "        #If data type is string, then I decode value from binary to get special characters and to make it easier to read\n",
    "        if(\"|S\" in str(val.dtype)):\n",
    "            print(\"\\tValue: \" + str([i.decode() for i in val.value[0:10]]))\n",
    "        else:\n",
    "            print(\"\\tValue: \" + str(val.value[0:10]))\n",
    "        print(\"\\n\\n\\n\")"
   ]
  },
  {
   "cell_type": "markdown",
   "metadata": {},
   "source": [
    "# EDA"
   ]
  },
  {
   "cell_type": "code",
   "execution_count": 8,
   "metadata": {},
   "outputs": [
    {
     "name": "stdout",
     "output_type": "stream",
     "text": [
      "23.403152499999976\n",
      "[62620, 308128, 214, 6519, 1186, 18871, 8854, 120945, 578, 12847, 160112, 596]\n",
      "[0, 0, 0, 0, 0, 0, 0, 0, 0, 0, 0, 0]\n",
      "[145.99869613704396, 1851.9068345896815, 0.07339364922313246, 8.545371076881796, 2.5514292182691745, 1.0287436798282759, 8.95004234410243, 193.42126512439106, 0.11922589949774025, 11.223916452151164, 978.11925105441, 0.17611792622902708]\n",
      "[140498, 206950, 4685, 47087, 65687, 12723, 111750, 178873, 4677, 128348, 161095, 8349]\n"
     ]
    }
   ],
   "source": [
    "with h5py.File(filepath, \"r\") as f:\n",
    "    blah = f[\"data\"][\"expression\"]\n",
    "    maxs = []\n",
    "    mins = []\n",
    "    avgs = []\n",
    "    nonzeros = []\n",
    "    start = time.perf_counter()\n",
    "    for i in [1,100,200,300,400,500,600,6000,700,10000,20000,30000]:\n",
    "        maxs.append(np.max(blah[:,i]))\n",
    "        mins.append(np.min(blah[:,i]))\n",
    "        avgs.append(np.mean(blah[:,i]))\n",
    "        nonzeros.append(np.count_nonzero(blah[:,i]))\n",
    "    print(time.perf_counter() - start)\n",
    "    print(maxs)\n",
    "    print(mins)\n",
    "    print(avgs)\n",
    "    print(nonzeros)"
   ]
  },
  {
   "cell_type": "code",
   "execution_count": 9,
   "metadata": {},
   "outputs": [
    {
     "data": {
      "text/plain": [
       "0.6108608695652173"
      ]
     },
     "execution_count": 9,
     "metadata": {},
     "output_type": "execute_result"
    }
   ],
   "source": [
    "140498/230000"
   ]
  },
  {
   "cell_type": "code",
   "execution_count": null,
   "metadata": {},
   "outputs": [],
   "source": []
  }
 ],
 "metadata": {
  "kernelspec": {
   "display_name": "Python 3",
   "language": "python",
   "name": "python3"
  },
  "language_info": {
   "codemirror_mode": {
    "name": "ipython",
    "version": 3
   },
   "file_extension": ".py",
   "mimetype": "text/x-python",
   "name": "python",
   "nbconvert_exporter": "python",
   "pygments_lexer": "ipython3",
   "version": "3.7.3"
  }
 },
 "nbformat": 4,
 "nbformat_minor": 2
}
